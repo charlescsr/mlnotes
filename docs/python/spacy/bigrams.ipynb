{
 "cells": [
  {
   "cell_type": "raw",
   "metadata": {},
   "source": [
    "---\n",
    "title: \"Bigrams Function\"\n",
    "author: \"Charles\"\n",
    "date: 2020-08-22\n",
    "description: \"-\"\n",
    "type: technical_note\n",
    "draft: false\n",
    "---"
   ]
  },
  {
   "cell_type": "code",
   "execution_count": 1,
   "metadata": {},
   "outputs": [],
   "source": [
    "def bigram(doc):\n",
    "    '''Create list for result'''\n",
    "    result = list()\n",
    "    '''Create list containing no punctuations'''\n",
    "    sentence = list()\n",
    "\n",
    "    '''Parse throught the list and add the tokens that are words'''\n",
    "    for token in doc:\n",
    "        if token.is_alpha:\n",
    "            sentence.append(token)\n",
    "\n",
    "    for word in range(len(sentence) - 1):\n",
    "        firstword = sentence[word]\n",
    "        secondword = sentence[word + 1]\n",
    "        element = [firstword, secondword]\n",
    "        result.append(element)\n",
    "    \n",
    "    return result "
   ]
  },
  {
   "cell_type": "code",
   "execution_count": null,
   "metadata": {},
   "outputs": [],
   "source": []
  }
 ],
 "metadata": {
  "kernelspec": {
   "display_name": "kagglevil",
   "language": "python",
   "name": "kagglevil"
  },
  "language_info": {
   "codemirror_mode": {
    "name": "ipython",
    "version": 3
   },
   "file_extension": ".py",
   "mimetype": "text/x-python",
   "name": "python",
   "nbconvert_exporter": "python",
   "pygments_lexer": "ipython3",
   "version": "3.8.5"
  }
 },
 "nbformat": 4,
 "nbformat_minor": 2
}
